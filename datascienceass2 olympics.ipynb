{
 "cells": [
  {
   "cell_type": "code",
   "execution_count": 1,
   "id": "55e9d9fe-7316-40e0-b21a-23653d7b9ce9",
   "metadata": {},
   "outputs": [],
   "source": [
    "import pandas as pd\n"
   ]
  },
  {
   "cell_type": "code",
   "execution_count": 2,
   "id": "4a40a8b3-7c80-45d0-8f73-bd141c7a9f28",
   "metadata": {},
   "outputs": [],
   "source": [
    "olym = pd.read_csv(\"Olympics.csv\")"
   ]
  },
  {
   "cell_type": "code",
   "execution_count": 3,
   "id": "60b43dcb-f947-467b-b0d3-9e64eeeb422b",
   "metadata": {},
   "outputs": [
    {
     "data": {
      "text/html": [
       "<div>\n",
       "<style scoped>\n",
       "    .dataframe tbody tr th:only-of-type {\n",
       "        vertical-align: middle;\n",
       "    }\n",
       "\n",
       "    .dataframe tbody tr th {\n",
       "        vertical-align: top;\n",
       "    }\n",
       "\n",
       "    .dataframe thead th {\n",
       "        text-align: right;\n",
       "    }\n",
       "</style>\n",
       "<table border=\"1\" class=\"dataframe\">\n",
       "  <thead>\n",
       "    <tr style=\"text-align: right;\">\n",
       "      <th></th>\n",
       "      <th>id</th>\n",
       "      <th>name</th>\n",
       "      <th>sex</th>\n",
       "      <th>age</th>\n",
       "      <th>height</th>\n",
       "      <th>weight</th>\n",
       "      <th>team</th>\n",
       "      <th>noc</th>\n",
       "      <th>games</th>\n",
       "      <th>year</th>\n",
       "      <th>season</th>\n",
       "      <th>city</th>\n",
       "      <th>sport</th>\n",
       "      <th>event</th>\n",
       "      <th>medal</th>\n",
       "    </tr>\n",
       "  </thead>\n",
       "  <tbody>\n",
       "    <tr>\n",
       "      <th>0</th>\n",
       "      <td>1</td>\n",
       "      <td>A Dijiang</td>\n",
       "      <td>M</td>\n",
       "      <td>24</td>\n",
       "      <td>180.0</td>\n",
       "      <td>80.0</td>\n",
       "      <td>China</td>\n",
       "      <td>CHN</td>\n",
       "      <td>1992 Summer</td>\n",
       "      <td>1992</td>\n",
       "      <td>Summer</td>\n",
       "      <td>Barcelona</td>\n",
       "      <td>Basketball</td>\n",
       "      <td>Basketball Men's Basketball</td>\n",
       "      <td>NaN</td>\n",
       "    </tr>\n",
       "    <tr>\n",
       "      <th>1</th>\n",
       "      <td>2</td>\n",
       "      <td>A Lamusi</td>\n",
       "      <td>M</td>\n",
       "      <td>23</td>\n",
       "      <td>170.0</td>\n",
       "      <td>60.0</td>\n",
       "      <td>China</td>\n",
       "      <td>CHN</td>\n",
       "      <td>2012 Summer</td>\n",
       "      <td>2012</td>\n",
       "      <td>Summer</td>\n",
       "      <td>London</td>\n",
       "      <td>Judo</td>\n",
       "      <td>Judo Men's Extra-Lightweight</td>\n",
       "      <td>NaN</td>\n",
       "    </tr>\n",
       "    <tr>\n",
       "      <th>2</th>\n",
       "      <td>3</td>\n",
       "      <td>Gunnar Nielsen Aaby</td>\n",
       "      <td>M</td>\n",
       "      <td>24</td>\n",
       "      <td>NaN</td>\n",
       "      <td>NaN</td>\n",
       "      <td>Denmark</td>\n",
       "      <td>DEN</td>\n",
       "      <td>1920 Summer</td>\n",
       "      <td>1920</td>\n",
       "      <td>Summer</td>\n",
       "      <td>Antwerpen</td>\n",
       "      <td>Football</td>\n",
       "      <td>Football Men's Football</td>\n",
       "      <td>NaN</td>\n",
       "    </tr>\n",
       "    <tr>\n",
       "      <th>3</th>\n",
       "      <td>4</td>\n",
       "      <td>Edgar Lindenau Aabye</td>\n",
       "      <td>M</td>\n",
       "      <td>34</td>\n",
       "      <td>NaN</td>\n",
       "      <td>NaN</td>\n",
       "      <td>Denmark/Sweden</td>\n",
       "      <td>DEN</td>\n",
       "      <td>1900 Summer</td>\n",
       "      <td>1900</td>\n",
       "      <td>Summer</td>\n",
       "      <td>Paris</td>\n",
       "      <td>Tug-Of-War</td>\n",
       "      <td>Tug-Of-War Men's Tug-Of-War</td>\n",
       "      <td>Gold</td>\n",
       "    </tr>\n",
       "    <tr>\n",
       "      <th>4</th>\n",
       "      <td>5</td>\n",
       "      <td>Christine Jacoba Aaftink</td>\n",
       "      <td>F</td>\n",
       "      <td>21</td>\n",
       "      <td>185.0</td>\n",
       "      <td>82.0</td>\n",
       "      <td>Netherlands</td>\n",
       "      <td>NED</td>\n",
       "      <td>1988 Winter</td>\n",
       "      <td>1988</td>\n",
       "      <td>Winter</td>\n",
       "      <td>Calgary</td>\n",
       "      <td>Speed Skating</td>\n",
       "      <td>Speed Skating Women's 500 metres</td>\n",
       "      <td>NaN</td>\n",
       "    </tr>\n",
       "    <tr>\n",
       "      <th>...</th>\n",
       "      <td>...</td>\n",
       "      <td>...</td>\n",
       "      <td>...</td>\n",
       "      <td>...</td>\n",
       "      <td>...</td>\n",
       "      <td>...</td>\n",
       "      <td>...</td>\n",
       "      <td>...</td>\n",
       "      <td>...</td>\n",
       "      <td>...</td>\n",
       "      <td>...</td>\n",
       "      <td>...</td>\n",
       "      <td>...</td>\n",
       "      <td>...</td>\n",
       "      <td>...</td>\n",
       "    </tr>\n",
       "    <tr>\n",
       "      <th>95</th>\n",
       "      <td>32</td>\n",
       "      <td>Olav Augunson Aarnes</td>\n",
       "      <td>M</td>\n",
       "      <td>23</td>\n",
       "      <td>NaN</td>\n",
       "      <td>NaN</td>\n",
       "      <td>Norway</td>\n",
       "      <td>NOR</td>\n",
       "      <td>1912 Summer</td>\n",
       "      <td>1912</td>\n",
       "      <td>Summer</td>\n",
       "      <td>Stockholm</td>\n",
       "      <td>Athletics</td>\n",
       "      <td>Athletics Men's High Jump</td>\n",
       "      <td>NaN</td>\n",
       "    </tr>\n",
       "    <tr>\n",
       "      <th>96</th>\n",
       "      <td>33</td>\n",
       "      <td>Mika Lauri Aarnikka</td>\n",
       "      <td>M</td>\n",
       "      <td>24</td>\n",
       "      <td>187.0</td>\n",
       "      <td>76.0</td>\n",
       "      <td>Finland</td>\n",
       "      <td>FIN</td>\n",
       "      <td>1992 Summer</td>\n",
       "      <td>1992</td>\n",
       "      <td>Summer</td>\n",
       "      <td>Barcelona</td>\n",
       "      <td>Sailing</td>\n",
       "      <td>Sailing Men's Two Person Dinghy</td>\n",
       "      <td>NaN</td>\n",
       "    </tr>\n",
       "    <tr>\n",
       "      <th>97</th>\n",
       "      <td>33</td>\n",
       "      <td>Mika Lauri Aarnikka</td>\n",
       "      <td>M</td>\n",
       "      <td>28</td>\n",
       "      <td>187.0</td>\n",
       "      <td>76.0</td>\n",
       "      <td>Finland</td>\n",
       "      <td>FIN</td>\n",
       "      <td>1996 Summer</td>\n",
       "      <td>1996</td>\n",
       "      <td>Summer</td>\n",
       "      <td>Atlanta</td>\n",
       "      <td>Sailing</td>\n",
       "      <td>Sailing Men's Two Person Dinghy</td>\n",
       "      <td>NaN</td>\n",
       "    </tr>\n",
       "    <tr>\n",
       "      <th>98</th>\n",
       "      <td>34</td>\n",
       "      <td>Jamale (Djamel-) Aarrass (Ahrass-)</td>\n",
       "      <td>M</td>\n",
       "      <td>30</td>\n",
       "      <td>187.0</td>\n",
       "      <td>76.0</td>\n",
       "      <td>France</td>\n",
       "      <td>FRA</td>\n",
       "      <td>2012 Summer</td>\n",
       "      <td>2012</td>\n",
       "      <td>Summer</td>\n",
       "      <td>London</td>\n",
       "      <td>Athletics</td>\n",
       "      <td>\"Athletics Men's 1,500 metres\"</td>\n",
       "      <td>NaN</td>\n",
       "    </tr>\n",
       "    <tr>\n",
       "      <th>99</th>\n",
       "      <td>35</td>\n",
       "      <td>Dagfinn Sverre Aarskog</td>\n",
       "      <td>M</td>\n",
       "      <td>24</td>\n",
       "      <td>190.0</td>\n",
       "      <td>98.0</td>\n",
       "      <td>Norway</td>\n",
       "      <td>NOR</td>\n",
       "      <td>1998 Winter</td>\n",
       "      <td>1998</td>\n",
       "      <td>Winter</td>\n",
       "      <td>Nagano</td>\n",
       "      <td>Bobsleigh</td>\n",
       "      <td>Bobsleigh Men's Four</td>\n",
       "      <td>NaN</td>\n",
       "    </tr>\n",
       "  </tbody>\n",
       "</table>\n",
       "<p>100 rows × 15 columns</p>\n",
       "</div>"
      ],
      "text/plain": [
       "    id                                name sex  age  height  weight  \\\n",
       "0    1                           A Dijiang   M   24   180.0    80.0   \n",
       "1    2                            A Lamusi   M   23   170.0    60.0   \n",
       "2    3                 Gunnar Nielsen Aaby   M   24     NaN     NaN   \n",
       "3    4                Edgar Lindenau Aabye   M   34     NaN     NaN   \n",
       "4    5            Christine Jacoba Aaftink   F   21   185.0    82.0   \n",
       "..  ..                                 ...  ..  ...     ...     ...   \n",
       "95  32                Olav Augunson Aarnes   M   23     NaN     NaN   \n",
       "96  33                 Mika Lauri Aarnikka   M   24   187.0    76.0   \n",
       "97  33                 Mika Lauri Aarnikka   M   28   187.0    76.0   \n",
       "98  34  Jamale (Djamel-) Aarrass (Ahrass-)   M   30   187.0    76.0   \n",
       "99  35              Dagfinn Sverre Aarskog   M   24   190.0    98.0   \n",
       "\n",
       "              team  noc        games  year  season       city          sport  \\\n",
       "0            China  CHN  1992 Summer  1992  Summer  Barcelona     Basketball   \n",
       "1            China  CHN  2012 Summer  2012  Summer     London           Judo   \n",
       "2          Denmark  DEN  1920 Summer  1920  Summer  Antwerpen       Football   \n",
       "3   Denmark/Sweden  DEN  1900 Summer  1900  Summer      Paris     Tug-Of-War   \n",
       "4      Netherlands  NED  1988 Winter  1988  Winter    Calgary  Speed Skating   \n",
       "..             ...  ...          ...   ...     ...        ...            ...   \n",
       "95          Norway  NOR  1912 Summer  1912  Summer  Stockholm      Athletics   \n",
       "96         Finland  FIN  1992 Summer  1992  Summer  Barcelona        Sailing   \n",
       "97         Finland  FIN  1996 Summer  1996  Summer    Atlanta        Sailing   \n",
       "98          France  FRA  2012 Summer  2012  Summer     London      Athletics   \n",
       "99          Norway  NOR  1998 Winter  1998  Winter     Nagano      Bobsleigh   \n",
       "\n",
       "                               event medal  \n",
       "0        Basketball Men's Basketball   NaN  \n",
       "1       Judo Men's Extra-Lightweight   NaN  \n",
       "2            Football Men's Football   NaN  \n",
       "3        Tug-Of-War Men's Tug-Of-War  Gold  \n",
       "4   Speed Skating Women's 500 metres   NaN  \n",
       "..                               ...   ...  \n",
       "95         Athletics Men's High Jump   NaN  \n",
       "96   Sailing Men's Two Person Dinghy   NaN  \n",
       "97   Sailing Men's Two Person Dinghy   NaN  \n",
       "98    \"Athletics Men's 1,500 metres\"   NaN  \n",
       "99              Bobsleigh Men's Four   NaN  \n",
       "\n",
       "[100 rows x 15 columns]"
      ]
     },
     "execution_count": 3,
     "metadata": {},
     "output_type": "execute_result"
    }
   ],
   "source": [
    "olym\n"
   ]
  },
  {
   "cell_type": "code",
   "execution_count": 4,
   "id": "61f23511-4692-4edb-ad0b-c4bf2ef339a7",
   "metadata": {},
   "outputs": [],
   "source": [
    "sel_colum=['name','medal']"
   ]
  },
  {
   "cell_type": "code",
   "execution_count": 5,
   "id": "938f1f02-2199-45b0-90d4-6ca5a6855405",
   "metadata": {},
   "outputs": [],
   "source": [
    "olym_sel=olym[sel_colum]"
   ]
  },
  {
   "cell_type": "code",
   "execution_count": 7,
   "id": "bf994b22-69e8-44ba-b04d-771b3011f4a9",
   "metadata": {},
   "outputs": [
    {
     "name": "stdout",
     "output_type": "stream",
     "text": [
      "                                  name medal\n",
      "0                            A Dijiang   NaN\n",
      "1                             A Lamusi   NaN\n",
      "2                  Gunnar Nielsen Aaby   NaN\n",
      "3                 Edgar Lindenau Aabye  Gold\n",
      "4             Christine Jacoba Aaftink   NaN\n",
      "..                                 ...   ...\n",
      "95                Olav Augunson Aarnes   NaN\n",
      "96                 Mika Lauri Aarnikka   NaN\n",
      "97                 Mika Lauri Aarnikka   NaN\n",
      "98  Jamale (Djamel-) Aarrass (Ahrass-)   NaN\n",
      "99              Dagfinn Sverre Aarskog   NaN\n",
      "\n",
      "[100 rows x 2 columns]\n"
     ]
    }
   ],
   "source": [
    "print(olym_sel)"
   ]
  },
  {
   "cell_type": "code",
   "execution_count": 8,
   "id": "ce0f293f-8f63-4e1a-9bd7-0721174d2aeb",
   "metadata": {},
   "outputs": [
    {
     "data": {
      "text/plain": [
       "100"
      ]
     },
     "execution_count": 8,
     "metadata": {},
     "output_type": "execute_result"
    }
   ],
   "source": [
    "olym.name.count()"
   ]
  },
  {
   "cell_type": "code",
   "execution_count": 9,
   "id": "98e381eb-95a2-47e6-943f-ad71b4430eb3",
   "metadata": {},
   "outputs": [
    {
     "data": {
      "text/plain": [
       "medal\n",
       "Gold      9\n",
       "Bronze    8\n",
       "Silver    4\n",
       "Name: count, dtype: int64"
      ]
     },
     "execution_count": 9,
     "metadata": {},
     "output_type": "execute_result"
    }
   ],
   "source": [
    "olym.medal.value_counts()"
   ]
  },
  {
   "cell_type": "code",
   "execution_count": 10,
   "id": "d93edeb7-a763-471c-aaa2-132688b02585",
   "metadata": {},
   "outputs": [],
   "source": [
    "gold_medal=olym[olym['medal'] == 'Gold']"
   ]
  },
  {
   "cell_type": "code",
   "execution_count": 14,
   "id": "2b50a25e-ff38-4c89-8725-ebcba22a90c6",
   "metadata": {},
   "outputs": [
    {
     "name": "stdout",
     "output_type": "stream",
     "text": [
      "    id                       name sex  age  height  weight            team  \\\n",
      "3    4       Edgar Lindenau Aabye   M   34     NaN     NaN  Denmark/Sweden   \n",
      "42  17    Paavo Johannes Aaltonen   M   28   175.0    64.0         Finland   \n",
      "44  17    Paavo Johannes Aaltonen   M   28   175.0    64.0         Finland   \n",
      "48  17    Paavo Johannes Aaltonen   M   28   175.0    64.0         Finland   \n",
      "60  20         Kjetil Andr Aamodt   M   20   176.0    85.0          Norway   \n",
      "73  20         Kjetil Andr Aamodt   M   30   176.0    85.0          Norway   \n",
      "76  20         Kjetil Andr Aamodt   M   30   176.0    85.0          Norway   \n",
      "78  20         Kjetil Andr Aamodt   M   34   176.0    85.0          Norway   \n",
      "79  21  Ragnhild Margrethe Aamodt   F   27   163.0     NaN          Norway   \n",
      "\n",
      "    noc        games  year  season            city          sport  \\\n",
      "3   DEN  1900 Summer  1900  Summer           Paris     Tug-Of-War   \n",
      "42  FIN  1948 Summer  1948  Summer          London     Gymnastics   \n",
      "44  FIN  1948 Summer  1948  Summer          London     Gymnastics   \n",
      "48  FIN  1948 Summer  1948  Summer          London     Gymnastics   \n",
      "60  NOR  1992 Winter  1992  Winter     Albertville  Alpine Skiing   \n",
      "73  NOR  2002 Winter  2002  Winter  Salt Lake City  Alpine Skiing   \n",
      "76  NOR  2002 Winter  2002  Winter  Salt Lake City  Alpine Skiing   \n",
      "78  NOR  2006 Winter  2006  Winter          Torino  Alpine Skiing   \n",
      "79  NOR  2008 Summer  2008  Summer         Beijing       Handball   \n",
      "\n",
      "                               event medal  \n",
      "3        Tug-Of-War Men's Tug-Of-War  Gold  \n",
      "42  Gymnastics Men's Team All-Around  Gold  \n",
      "44      Gymnastics Men's Horse Vault  Gold  \n",
      "48  Gymnastics Men's Pommelled Horse  Gold  \n",
      "60       Alpine Skiing Men's Super G  Gold  \n",
      "73       Alpine Skiing Men's Super G  Gold  \n",
      "76      Alpine Skiing Men's Combined  Gold  \n",
      "78       Alpine Skiing Men's Super G  Gold  \n",
      "79         Handball Women's Handball  Gold  \n"
     ]
    }
   ],
   "source": [
    "print(gold_medal)"
   ]
  },
  {
   "cell_type": "code",
   "execution_count": 16,
   "id": "740e25dd-602e-416f-a05b-67251fc202e5",
   "metadata": {},
   "outputs": [],
   "source": [
    "silver_medal = olym[olym['medal'] == 'Silver']"
   ]
  },
  {
   "cell_type": "code",
   "execution_count": 18,
   "id": "6d739c4b-ec0a-4e3e-8be5-7a68d77162f2",
   "metadata": {},
   "outputs": [],
   "source": [
    "silver_medals = silver_medal.sort_values(by='year')"
   ]
  },
  {
   "cell_type": "code",
   "execution_count": 20,
   "id": "cc17d45a-b9a6-43ad-9887-d11688b64ca0",
   "metadata": {},
   "outputs": [
    {
     "data": {
      "text/html": [
       "<div>\n",
       "<style scoped>\n",
       "    .dataframe tbody tr th:only-of-type {\n",
       "        vertical-align: middle;\n",
       "    }\n",
       "\n",
       "    .dataframe tbody tr th {\n",
       "        vertical-align: top;\n",
       "    }\n",
       "\n",
       "    .dataframe thead th {\n",
       "        text-align: right;\n",
       "    }\n",
       "</style>\n",
       "<table border=\"1\" class=\"dataframe\">\n",
       "  <thead>\n",
       "    <tr style=\"text-align: right;\">\n",
       "      <th></th>\n",
       "      <th>name</th>\n",
       "      <th>year</th>\n",
       "    </tr>\n",
       "  </thead>\n",
       "  <tbody>\n",
       "    <tr>\n",
       "      <th>86</th>\n",
       "      <td>Alf Lied Aanning</td>\n",
       "      <td>1920</td>\n",
       "    </tr>\n",
       "    <tr>\n",
       "      <th>63</th>\n",
       "      <td>Kjetil Andr Aamodt</td>\n",
       "      <td>1994</td>\n",
       "    </tr>\n",
       "    <tr>\n",
       "      <th>67</th>\n",
       "      <td>Kjetil Andr Aamodt</td>\n",
       "      <td>1994</td>\n",
       "    </tr>\n",
       "    <tr>\n",
       "      <th>92</th>\n",
       "      <td>Pepijn Aardewijn</td>\n",
       "      <td>1996</td>\n",
       "    </tr>\n",
       "  </tbody>\n",
       "</table>\n",
       "</div>"
      ],
      "text/plain": [
       "                  name  year\n",
       "86    Alf Lied Aanning  1920\n",
       "63  Kjetil Andr Aamodt  1994\n",
       "67  Kjetil Andr Aamodt  1994\n",
       "92    Pepijn Aardewijn  1996"
      ]
     },
     "execution_count": 20,
     "metadata": {},
     "output_type": "execute_result"
    }
   ],
   "source": [
    "silver_medals[['name', 'year']]"
   ]
  },
  {
   "cell_type": "code",
   "execution_count": 24,
   "id": "f0af605e-898d-42a3-8776-507f2f9d7005",
   "metadata": {},
   "outputs": [
    {
     "name": "stdout",
     "output_type": "stream",
     "text": [
      "city            medal \n",
      "Albertville     Bronze    1\n",
      "                Gold      1\n",
      "Antwerpen       Bronze    2\n",
      "                Silver    1\n",
      "Atlanta         Silver    1\n",
      "Beijing         Gold      1\n",
      "Helsinki        Bronze    1\n",
      "Lillehammer     Bronze    1\n",
      "                Silver    2\n",
      "London          Bronze    1\n",
      "                Gold      3\n",
      "Paris           Gold      1\n",
      "Salt Lake City  Gold      2\n",
      "Seoul           Bronze    1\n",
      "Sochi           Bronze    1\n",
      "Torino          Gold      1\n",
      "dtype: int64\n"
     ]
    }
   ],
   "source": [
    "medal_counts= olym.groupby(['city','medal']).size()\n",
    "print(medal_counts)"
   ]
  },
  {
   "cell_type": "code",
   "execution_count": 35,
   "id": "f9f849c6-90ef-4ac1-ad21-6a8d2575b925",
   "metadata": {},
   "outputs": [
    {
     "name": "stdout",
     "output_type": "stream",
     "text": [
      "city\n",
      "Albertville       1\n",
      "Beijing           1\n",
      "London            3\n",
      "Paris             1\n",
      "Salt Lake City    2\n",
      "Torino            1\n",
      "Name: medal, dtype: int64\n"
     ]
    }
   ],
   "source": [
    "gold_medals_count = gold_medal.groupby('city')['medal'].count()\n",
    "print(gold_medals_count)"
   ]
  },
  {
   "cell_type": "code",
   "execution_count": 31,
   "id": "eda44e20-0cd1-48a8-87dd-c8576bc80215",
   "metadata": {},
   "outputs": [],
   "source": [
    "countries_more_than_50_gold = gold_medals_count[ gold_medals_count > 50 ]"
   ]
  },
  {
   "cell_type": "code",
   "execution_count": 33,
   "id": "038c7df9-a831-4368-ad79-cd491262cb81",
   "metadata": {},
   "outputs": [
    {
     "data": {
      "text/plain": [
       "Series([], Name: medal, dtype: int64)"
      ]
     },
     "execution_count": 33,
     "metadata": {},
     "output_type": "execute_result"
    }
   ],
   "source": [
    "countries_more_than_50_gold"
   ]
  },
  {
   "cell_type": "markdown",
   "id": "dc658819-9aaf-421d-89d6-9c1fd8f2cd5a",
   "metadata": {},
   "source": [
    "#If you are getting an empty Series with the message Series([], Name: medal, dtype: int64), it means that there are no countries in your dataset that have won more than 50 gold medals."
   ]
  },
  {
   "cell_type": "code",
   "execution_count": 34,
   "id": "57056d34-5463-45f9-8fe3-875056b6fd05",
   "metadata": {},
   "outputs": [
    {
     "name": "stdout",
     "output_type": "stream",
     "text": [
      "name\n",
      "A Dijiang                               0\n",
      "A Lamusi                                0\n",
      "Agnes Erika Aanonsen (-Eyde)            0\n",
      "Alf Lied Aanning                        1\n",
      "Andreea Aanei                           0\n",
      "Antti Sami Aalto                        0\n",
      "Arvo Ossian Aaltonen                    2\n",
      "Christine Jacoba Aaftink                0\n",
      "Cornelia \\Cor\\\" Aalten (-Strannood)\"    0\n",
      "Dagfinn Sverre Aarskog                  0\n",
      "Edgar Lindenau Aabye                    1\n",
      "Einar Ferdinand \\Einari\\\" Aalto\"        0\n",
      "Evald rma (rman-)                       0\n",
      "Fritz Aanes                             0\n",
      "Gunnar Nielsen Aaby                     0\n",
      "Jamale (Djamel-) Aarrass (Ahrass-)      0\n",
      "Jan-Erik Aarberg                        0\n",
      "Johan Aantjes                           0\n",
      "John Aalberg                            0\n",
      "Jorma Ilmari Aalto                      0\n",
      "Juhamatti Tapio Aaltonen                1\n",
      "Jyri Tapani Aalto                       0\n",
      "Kjetil Andr Aamodt                      8\n",
      "Mika Lauri Aarnikka                     0\n",
      "Minna Maarit Aalto                      0\n",
      "Nils Egil Aaness                        0\n",
      "Olav Augunson Aarnes                    0\n",
      "Paavo Johannes Aaltonen                 5\n",
      "Pepijn Aardewijn                        1\n",
      "Per Knut Aaland                         0\n",
      "Pirjo Hannele Aalto (Mattila-)          0\n",
      "Ragnhild Margrethe Aamodt               1\n",
      "Timo Antero Aaltonen                    0\n",
      "Willemien Aardenburg                    1\n",
      "Win Valdemar Aaltonen                   0\n",
      "Name: medal, dtype: int64\n",
      "\n",
      "\n",
      "The athlete who has won the most medals is Kjetil Andr Aamodt with 8 medals.\n"
     ]
    }
   ],
   "source": [
    "medal_counts = olym.groupby('name')['medal'].count()\n",
    "print(medal_counts)\n",
    "print('\\n')\n",
    "most_medals = medal_counts.idxmax()\n",
    "total_medals = medal_counts.max()\n",
    "\n",
    "print(f\"The athlete who has won the most medals is {most_medals} with {total_medals} medals.\")"
   ]
  },
  {
   "cell_type": "code",
   "execution_count": 51,
   "id": "d01d53a5-144e-4beb-b62d-cdd0a928655e",
   "metadata": {},
   "outputs": [
    {
     "name": "stdout",
     "output_type": "stream",
     "text": [
      "[\"Swimming Men's 400 metres Freestyle\"]\n"
     ]
    }
   ],
   "source": [
    "freestyle_events = olym[olym['event'].str.contains('Freestyle', case=False)]\n",
    "print(freestyle_events['event'].unique())"
   ]
  },
  {
   "cell_type": "code",
   "execution_count": 66,
   "id": "159a2eec-1a8d-4084-baa1-c9f6594ef35f",
   "metadata": {},
   "outputs": [
    {
     "name": "stdout",
     "output_type": "stream",
     "text": [
      "Top 3 Athletes by Total Medals Won in Each Sport:\n",
      "           sport                       name  medal\n",
      "0  Alpine Skiing         Kjetil Andr Aamodt      8\n",
      "1     Gymnastics    Paavo Johannes Aaltonen      5\n",
      "2     Gymnastics           Alf Lied Aanning      1\n",
      "3       Handball  Ragnhild Margrethe Aamodt      1\n",
      "4         Hockey       Willemien Aardenburg      1\n",
      "5     Ice Hockey   Juhamatti Tapio Aaltonen      1\n",
      "6         Rowing           Pepijn Aardewijn      1\n",
      "7       Swimming       Arvo Ossian Aaltonen      2\n",
      "8     Tug-Of-War       Edgar Lindenau Aabye      1\n"
     ]
    }
   ],
   "source": [
    "athlete_sport_medal_counts = olym.groupby(['sport', 'name'])['medal'].count().reset_index()\n",
    "\n",
    "# Filter out athletes who have not won any medals\n",
    "athlete_sport_medal_counts = athlete_sport_medal_counts[athlete_sport_medal_counts['medal'] > 0]\n",
    "\n",
    "# Define a function to find the top 3 athletes in each sport\n",
    "def top_3_athletes(df):\n",
    "    return df.nlargest(3, 'medal')\n",
    "\n",
    "# Apply the function to each sport group\n",
    "top_3_athletes_by_sport = athlete_sport_medal_counts.groupby('sport').apply(top_3_athletes)\n",
    "\n",
    "# Reset the index\n",
    "top_3_athletes_by_sport.reset_index(drop=True, inplace=True)\n",
    "\n",
    "# Display the top 3 athletes by the total number of medals won in each sport\n",
    "print(\"Top 3 Athletes by Total Medals Won in Each Sport:\")\n",
    "print(top_3_athletes_by_sport)"
   ]
  },
  {
   "cell_type": "code",
   "execution_count": 54,
   "id": "eb348f08-4b96-41ed-8fbe-3f60ffbd9117",
   "metadata": {},
   "outputs": [],
   "source": [
    "athlete_medals_count = olym.groupby(['year', 'name'])['medal'].count().reset_index(name='Total_Medals')"
   ]
  },
  {
   "cell_type": "code",
   "execution_count": 55,
   "id": "eb786fcc-25fe-4f5e-afe6-2e2523a4aa95",
   "metadata": {},
   "outputs": [],
   "source": [
    "athletes_more_than_one_medal = athlete_medals_count[athlete_medals_count['Total_Medals'] > 1]"
   ]
  },
  {
   "cell_type": "code",
   "execution_count": 57,
   "id": "60de23fd-6ba3-47fc-9380-741a2c879934",
   "metadata": {},
   "outputs": [
    {
     "name": "stdout",
     "output_type": "stream",
     "text": [
      "    year                     name  Total_Medals\n",
      "4   1920     Arvo Ossian Aaltonen             2\n",
      "9   1948  Paavo Johannes Aaltonen             4\n",
      "25  1992       Kjetil Andr Aamodt             2\n",
      "30  1994       Kjetil Andr Aamodt             3\n",
      "44  2002       Kjetil Andr Aamodt             2\n"
     ]
    }
   ],
   "source": [
    "print(athletes_more_than_one_medal[['year', 'name', 'Total_Medals']])"
   ]
  },
  {
   "cell_type": "code",
   "execution_count": 59,
   "id": "bfe17fbc-aa42-41ea-b59e-833c8463f242",
   "metadata": {},
   "outputs": [],
   "source": [
    "gold_medals_by_season = gold_medal.groupby(['city', 'games'])['medal'].count().reset_index(name='Gold_Medals')"
   ]
  },
  {
   "cell_type": "code",
   "execution_count": 60,
   "id": "2cce0af4-0984-4828-8c28-909290fffbe5",
   "metadata": {},
   "outputs": [],
   "source": [
    "gold_medals_pivoted = gold_medals_by_season.pivot(index='city', columns='games', values='Gold_Medals')"
   ]
  },
  {
   "cell_type": "code",
   "execution_count": 64,
   "id": "703401d3-c850-4953-b25c-fec29f631c7f",
   "metadata": {},
   "outputs": [
    {
     "name": "stdout",
     "output_type": "stream",
     "text": [
      "games           1900 Summer  1948 Summer  1992 Winter  2002 Winter  \\\n",
      "city                                                                 \n",
      "Albertville             NaN          NaN          1.0          NaN   \n",
      "Beijing                 NaN          NaN          NaN          NaN   \n",
      "London                  NaN          3.0          NaN          NaN   \n",
      "Paris                   1.0          NaN          NaN          NaN   \n",
      "Salt Lake City          NaN          NaN          NaN          2.0   \n",
      "Torino                  NaN          NaN          NaN          NaN   \n",
      "\n",
      "games           2006 Winter  2008 Summer  \n",
      "city                                      \n",
      "Albertville             NaN          NaN  \n",
      "Beijing                 NaN          1.0  \n",
      "London                  NaN          NaN  \n",
      "Paris                   NaN          NaN  \n",
      "Salt Lake City          NaN          NaN  \n",
      "Torino                  1.0          NaN  \n"
     ]
    }
   ],
   "source": [
    "print(gold_medals_pivoted)"
   ]
  },
  {
   "cell_type": "code",
   "execution_count": 69,
   "id": "5d5b2fe8-3351-4e81-aa13-131e2424b6a4",
   "metadata": {},
   "outputs": [
    {
     "name": "stdout",
     "output_type": "stream",
     "text": [
      "              city  Average_Medals_Per_Athlete\n",
      "0      Albertville                    0.500000\n",
      "1        Antwerpen                    1.000000\n",
      "2           Athina                    0.000000\n",
      "3          Atlanta                    0.333333\n",
      "4        Barcelona                    0.000000\n",
      "5          Beijing                    1.000000\n",
      "6           Berlin                    0.000000\n",
      "7          Calgary                    0.000000\n",
      "8         Helsinki                    0.500000\n",
      "9        Innsbruck                    0.000000\n",
      "10     Lake Placid                    0.000000\n",
      "11     Lillehammer                    0.600000\n",
      "12          London                    1.000000\n",
      "13     Los Angeles                    0.000000\n",
      "14     Mexico City                    0.000000\n",
      "15          Munich                    0.000000\n",
      "16          Nagano                    0.000000\n",
      "17           Paris                    0.500000\n",
      "18  Rio de Janeiro                    0.000000\n",
      "19  Salt Lake City                    1.000000\n",
      "20        Sarajevo                    0.000000\n",
      "21           Seoul                    1.000000\n",
      "22           Sochi                    1.000000\n",
      "23    Squaw Valley                    0.000000\n",
      "24       Stockholm                    0.000000\n",
      "25          Sydney                    0.000000\n",
      "26          Torino                    1.000000\n"
     ]
    }
   ],
   "source": [
    "# Step 1: Group by 'Country' and 'Athlete', and count the number of medals for each athlete in each country\n",
    "athlete_medals_count = olym .groupby(['city', 'name'])['medal'].count().reset_index(name='Total_Medals')\n",
    "\n",
    "# Step 2: Group by 'Country' and calculate the average number of medals won per athlete\n",
    "average_medals_per_athlete = athlete_medals_count.groupby('city')['Total_Medals'].mean().reset_index(name='Average_Medals_Per_Athlete')\n",
    "\n",
    "# Step 3: Display the resulting DataFrame\n",
    "print(average_medals_per_athlete)"
   ]
  },
  {
   "cell_type": "code",
   "execution_count": 70,
   "id": "27b4f349-7fed-48f6-96d5-254e22bdc5ab",
   "metadata": {},
   "outputs": [
    {
     "name": "stdout",
     "output_type": "stream",
     "text": [
      "No country has won medals in more than 10 different sports.\n"
     ]
    }
   ],
   "source": [
    "#s\n",
    "# Group data by country and sport, then count the number of unique sports in which each country has won medals\n",
    "country_sport_counts = olym.groupby(['city', 'sport']).size().reset_index(name='MedalCount')\n",
    "countries_medals_per_sport = country_sport_counts.groupby('city')['sport'].count()\n",
    "\n",
    "# Filter out countries that have won medals in more than 10 different sports\n",
    "countries_more_than_10_sports = countries_medals_per_sport[countries_medals_per_sport > 10]\n",
    "\n",
    "if not countries_more_than_10_sports.empty:\n",
    "    # Display the list of countries\n",
    "    print(\"Countries that have won medals in more than 10 different sports:\")\n",
    "    print(countries_more_than_10_sports.index.tolist())\n",
    "else:\n",
    "    print(\"No country has won medals in more than 10 different sports.\")"
   ]
  },
  {
   "cell_type": "code",
   "execution_count": 72,
   "id": "b43dda25-3741-4319-a40e-55f333db49d9",
   "metadata": {},
   "outputs": [
    {
     "name": "stdout",
     "output_type": "stream",
     "text": [
      "              city  Average_Medals_Per_Athlete\n",
      "0      Albertville                    0.500000\n",
      "1        Antwerpen                    1.000000\n",
      "2           Athina                    0.000000\n",
      "3          Atlanta                    0.333333\n",
      "4        Barcelona                    0.000000\n",
      "5          Beijing                    1.000000\n",
      "6           Berlin                    0.000000\n",
      "7          Calgary                    0.000000\n",
      "8         Helsinki                    0.500000\n",
      "9        Innsbruck                    0.000000\n",
      "10     Lake Placid                    0.000000\n",
      "11     Lillehammer                    0.600000\n",
      "12          London                    1.000000\n",
      "13     Los Angeles                    0.000000\n",
      "14     Mexico City                    0.000000\n",
      "15          Munich                    0.000000\n",
      "16          Nagano                    0.000000\n",
      "17           Paris                    0.500000\n",
      "18  Rio de Janeiro                    0.000000\n",
      "19  Salt Lake City                    1.000000\n",
      "20        Sarajevo                    0.000000\n",
      "21           Seoul                    1.000000\n",
      "22           Sochi                    1.000000\n",
      "23    Squaw Valley                    0.000000\n",
      "24       Stockholm                    0.000000\n",
      "25          Sydney                    0.000000\n",
      "26          Torino                    1.000000\n"
     ]
    }
   ],
   "source": [
    "# Step 1: Group by 'Country' and 'Athlete', and count the number of medals for each athlete in each country\n",
    "athlete_medals_count = olym .groupby(['city', 'name'])['medal'].count().reset_index(name='Total_Medals')\n",
    "\n",
    "# Step 2: Group by 'Country' and calculate the average number of medals won per athlete\n",
    "average_medals_per_athlete = athlete_medals_count.groupby('city')['Total_Medals'].mean().reset_index(name='Average_Medals_Per_Athlete')\n",
    "\n",
    "# Step 3: Display the resulting DataFrame\n",
    "print(average_medals_per_athlete)"
   ]
  },
  {
   "cell_type": "code",
   "execution_count": null,
   "id": "0815162f-4b14-43f9-8367-10f45f5491e8",
   "metadata": {},
   "outputs": [],
   "source": []
  }
 ],
 "metadata": {
  "kernelspec": {
   "display_name": "Python 3 (ipykernel)",
   "language": "python",
   "name": "python3"
  },
  "language_info": {
   "codemirror_mode": {
    "name": "ipython",
    "version": 3
   },
   "file_extension": ".py",
   "mimetype": "text/x-python",
   "name": "python",
   "nbconvert_exporter": "python",
   "pygments_lexer": "ipython3",
   "version": "3.11.7"
  }
 },
 "nbformat": 4,
 "nbformat_minor": 5
}
